{
 "cells": [
  {
   "cell_type": "markdown",
   "metadata": {},
   "source": []
  },
  {
   "cell_type": "code",
   "execution_count": 1,
   "metadata": {},
   "outputs": [],
   "source": [
    "import matplotlib.pyplot as plt"
   ]
  },
  {
   "cell_type": "code",
   "execution_count": 2,
   "metadata": {},
   "outputs": [],
   "source": [
    "#imports for code\n",
    "import csv \n",
    "import sys\n",
    "import sklearn\n",
    "import scipy\n",
    "import pandas as pd\n",
    "import numpy as np\n",
    "import matplotlib.pyplot as plt\n",
    "import seaborn as sns\n",
    "import cufflinks as cf\n",
    "import plotly.graph_objects as go\n",
    "from dash import Dash, html, dcc\n",
    "import plotly.express as px\n",
    "import dash\n",
    "import dash_table\n",
    "import pandas as pd\n",
    "import plotly.graph_objects as go\n"
   ]
  },
  {
   "cell_type": "code",
   "execution_count": 28,
   "metadata": {},
   "outputs": [],
   "source": [
    "#all dummy data - hardcoded \n",
    "dates = ['Jan','Feb','Mar','Apr','May','Jun','Jul','Aug','Sep','Oct', 'Nov', 'Dec']\n",
    "dummy_ImgForClassification = [140, 163, 167,142, 171,174,177,200,225,240,345,370]\n",
    "\n",
    "dummy_ClassifyingImages_Titles = [\"ACTIVE\", \"ALL TIME\"]\n",
    "dummy_ClassifyingImages = [24,114]\n",
    "\n",
    "dummy_NoOfAnimals_ANIMALS = ['FOX', 'RABBIT', 'BADGER', 'SQUIRREL', 'ROEDEER']\n",
    "dummy_NoOfAnimals_MONTHS = [\"JAN\", \"FEB\", \"MAR\"]\n",
    "dummy_NoOfAnimals_FOX = [14,34,55]\n",
    "dummy_NoOfAnimals_RABBIT = [8,8,4]\n",
    "dummy_NoOfAnimals_BADGER = [15,10,5]\n",
    "dummy_NoOfAnimals_SQUIRREL = [18,14,8]\n",
    "dummy_NoOfAnimals_ROEDEER = [22,20,8]\n",
    "\n",
    "dummy_peerReviewedPapers = [362]\n",
    "dummy_NoOfCitations = [97]\n",
    "dummy_CoOfClassificationEvents = [42]\n",
    "dummy_completeSequencedWithClassification = [114]\n",
    "dummy_NoOfCameraDays = [342,16742]\n",
    "dummy_10kCells = []\n",
    "dummy_Funding = [47402, 57.4] \n"
   ]
  },
  {
   "cell_type": "code",
   "execution_count": 9,
   "metadata": {},
   "outputs": [],
   "source": [
    "plt.style.use('seaborn')\n",
    "sns.set(font_scale=1)"
   ]
  },
  {
   "cell_type": "markdown",
   "metadata": {},
   "source": [
    "1. fist graph\n"
   ]
  },
  {
   "cell_type": "code",
   "execution_count": 10,
   "metadata": {},
   "outputs": [
    {
     "data": {
      "image/png": "[encoded data removed]",
      "text/plain": [
       "<Figure size 576x576 with 1 Axes>"
      ]
     },
     "metadata": {},
     "output_type": "display_data"
    }
   ],
   "source": [
    "x= dates\n",
    "y= dummy_ImgForClassification\n",
    "plt.figure(figsize=((8,8)))\n",
    "plt.plot(x, y,'-o', color =\"orange\")\n",
    "plt.show()"
   ]
  },
  {
   "cell_type": "markdown",
   "metadata": {},
   "source": [
    "2. graph 2 \n"
   ]
  },
  {
   "cell_type": "code",
   "execution_count": null,
   "metadata": {},
   "outputs": [],
   "source": [
    "import dash_table"
   ]
  },
  {
   "cell_type": "code",
   "execution_count": 18,
   "metadata": {},
   "outputs": [
    {
     "data": {
      "text/html": [
       "<div>\n",
       "<style scoped>\n",
       "    .dataframe tbody tr th:only-of-type {\n",
       "        vertical-align: middle;\n",
       "    }\n",
       "\n",
       "    .dataframe tbody tr th {\n",
       "        vertical-align: top;\n",
       "    }\n",
       "\n",
       "    .dataframe thead th {\n",
       "        text-align: right;\n",
       "    }\n",
       "</style>\n",
       "<table border=\"1\" class=\"dataframe\">\n",
       "  <thead>\n",
       "    <tr style=\"text-align: right;\">\n",
       "      <th></th>\n",
       "      <th>ACTIVE</th>\n",
       "      <th>ALL TIME</th>\n",
       "    </tr>\n",
       "  </thead>\n",
       "  <tbody>\n",
       "    <tr>\n",
       "      <th>1</th>\n",
       "      <td>24</td>\n",
       "      <td>114</td>\n",
       "    </tr>\n",
       "  </tbody>\n",
       "</table>\n",
       "</div>"
      ],
      "text/plain": [
       "   ACTIVE  ALL TIME\n",
       "1      24       114"
      ]
     },
     "execution_count": 18,
     "metadata": {},
     "output_type": "execute_result"
    }
   ],
   "source": [
    "df = pd.DataFrame({'ACTIVE': dummy_ClassifyingImages[0], 'ALL TIME': dummy_ClassifyingImages[1]}, index=[1])\n",
    "df\n"
   ]
  }
 ],
 "metadata": {
  "interpreter": {
   "hash": "aee8b7b246df8f9039afb4144a1f6fd8d2ca17a180786b69acc140d282b71a49"
  },
  "kernelspec": {
   "display_name": "Python 3.10.1 64-bit",
   "language": "python",
   "name": "python3"
  },
  "language_info": {
   "codemirror_mode": {
    "name": "ipython",
    "version": 3
   },
   "file_extension": ".py",
   "mimetype": "text/x-python",
   "name": "python",
   "nbconvert_exporter": "python",
   "pygments_lexer": "ipython3",
   "version": "3.10.1"
  },
  "orig_nbformat": 4
 },
 "nbformat": 4,
 "nbformat_minor": 2
}
